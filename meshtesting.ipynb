{
 "cells": [
  {
   "cell_type": "code",
   "execution_count": 2,
   "metadata": {},
   "outputs": [
    {
     "ename": "SyntaxError",
     "evalue": "unterminated string literal (detected at line 2) (447368110.py, line 2)",
     "output_type": "error",
     "traceback": [
      "\u001b[1;36m  Cell \u001b[1;32mIn[2], line 2\u001b[1;36m\u001b[0m\n\u001b[1;33m    \"x_coord: [],\u001b[0m\n\u001b[1;37m    ^\u001b[0m\n\u001b[1;31mSyntaxError\u001b[0m\u001b[1;31m:\u001b[0m unterminated string literal (detected at line 2)\n"
     ]
    }
   ],
   "source": [
    "cascadia_bottom = {\n",
    "    \"x_coord\": [],\n",
    "    \"y_coord\": [],\n",
    "    \"z_coord\": []\n",
    "}\n",
    "\n",
    "''' cascadia bottom surfaces\n",
    "1 231.76194 40.257973 -10 235.61024 50.056671 0 0 0 \n",
    "2 232.13172 40.057766 -20 236.21259 50.268312 -10 0 0 \n",
    "3 232.54612 39.841921 -30 236.76067 50.460142 -20 0 0 \n",
    "4 232.91943 39.728929 -40 237.03881 50.606855 -30 0 0 \n",
    "5 233.23667 39.627027 -50 237.54666 50.767316 -40 0 0 \n",
    "6 233.52186 39.537619 -60 237.85776 50.922274 -50 0 0 \n",
    "7 233.83915 39.431927 -70 238.15881 51.070581 -60 0 0 \n",
    "\n",
    "\n",
    "\n",
    " surfaceTag(int(1)) minX(double(231.76194)) minY(double(40.257973)) minZ(-10)\n",
    "    maxX(235.61024) maxY(50.056671) maxZ(0)\n",
    "    numPhysicalTags(0) physicalTag(0) ...\n",
    "    numBoundingCurves(0) curveTag(int; sign encodes orientation) ...\n",
    "'''"
   ]
  },
  {
   "cell_type": "code",
   "execution_count": null,
   "metadata": {},
   "outputs": [],
   "source": [
    "# set up\n",
    "\n",
    "if gmsh.isInitialized() == 0:\n",
    "        gmsh.initialize()\n",
    "gmsh.option.setNumber(\"General.Verbosity\", 0)    \n",
    "gmsh.clear()\n",
    "\n",
    "\n",
    "# Making a horizontal mesh\n",
    "\n",
    "# Get bottom of subduction mesh\n",
    "\n",
    "# Other perimeter control points\n",
    "\n",
    "# Define a nominal element size\n",
    "source_el_size = 1\n",
    "\n",
    "# Use Gmsh to create the mesh\n",
    "# Gmsh needs geometric elements defined in order of dimension: \n",
    "# Define points\n",
    "# Define lines that connect those points\n",
    "# Define perimeter as connections of lines\n",
    "# Define surface from perimeter\n",
    "# Mesh the surface into triangles\n",
    "\n",
    "\n",
    "\n",
    "# Define points\n",
    "for i in range(len(casc_bottom)):\n",
    "    gmsh.model.geo.addPoint(x, y, z, source_el_size, i)\n",
    "\n",
    "# Define lines, each referencing the index of the 2 points it connects\n",
    "for j in range(i+1):\n",
    "    gmsh.model.geo.addLine(j, j+1, j)\n",
    "gmsh.model.geo.addLine(j+1, 0, j+1)\n",
    "\n",
    "# Define curve loop (perimeter), referencing the ordered indices of the lines\n",
    "gmsh.model.geo.addCurveLoop(list(range(0, j+2)), 1)\n",
    "\n",
    "# Define surface, referencing the index of the line loop\n",
    "gmsh.model.geo.addPlaneSurface([1], 1)\n",
    "gmsh.model.geo.synchronize()\n",
    "gmsh.write(\"mesh.geo_unrolled\")\n",
    "# Generate and write the mesh. Writing a file allows use of meshio\n",
    "gmsh.model.mesh.generate(2)\n",
    "gmsh.write(\"mesh.msh\")\n",
    "gmsh.finalize()\n",
    "\n",
    "# Read and parse mesh\n",
    "horiz = dict()\n",
    "horizobj = meshio.read(\"horiz.msh\")\n",
    "horiz[\"points\"] = horizobj.points\n",
    "horiz[\"verts\"] = meshio.CellBlock(\"triangle\", horizobj.get_cells_type(\"triangle\")).data\n",
    "fig, ax = plt.subplots()\n",
    "# Draw the fault\n",
    "ax.triplot(horiz[\"points\"][:, 0], horiz[\"points\"][:, 1], horiz[\"verts\"], linewidth=0.25)\n",
    "ax.set_aspect(\"equal\")\n",
    "plt.show()"
   ]
  }
 ],
 "metadata": {
  "kernelspec": {
   "display_name": "faultdis",
   "language": "python",
   "name": "python3"
  },
  "language_info": {
   "codemirror_mode": {
    "name": "ipython",
    "version": 3
   },
   "file_extension": ".py",
   "mimetype": "text/x-python",
   "name": "python",
   "nbconvert_exporter": "python",
   "pygments_lexer": "ipython3",
   "version": "3.12.6"
  }
 },
 "nbformat": 4,
 "nbformat_minor": 2
}
